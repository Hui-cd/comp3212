{
 "cells": [
  {
   "cell_type": "code",
   "execution_count": 64,
   "metadata": {},
   "outputs": [],
   "source": [
    "import numpy as np"
   ]
  },
  {
   "attachments": {},
   "cell_type": "markdown",
   "metadata": {},
   "source": [
    "## Task1"
   ]
  },
  {
   "cell_type": "code",
   "execution_count": 65,
   "metadata": {},
   "outputs": [
    {
     "name": "stdout",
     "output_type": "stream",
     "text": [
      "[[ 5 -2 -1 -2 -1 -1 -1  0 -2 -1 -2 -1 -1 -3 -1  1  0 -3 -2  0]\n",
      " [-2  7 -1 -2 -4  1  0 -3  0 -4 -3  3 -2 -3 -3 -1 -1 -3 -1 -3]\n",
      " [-1 -1  7  2 -2  0  0  0  1 -3 -4  0 -2 -4 -2  1  0 -4 -2 -3]\n",
      " [-2 -2  2  8 -4  0  2 -1 -1 -4 -4 -1 -4 -5 -1  0 -1 -5 -3 -4]\n",
      " [-1 -4 -2 -4 13 -3 -3 -3 -3 -2 -2 -3 -2 -2 -4 -1 -1 -5 -3 -1]\n",
      " [-1  1  0  0 -3  7  2 -2  1 -3 -2  2  0 -4 -1  0 -1 -1 -1 -3]\n",
      " [-1  0  0  2 -3  2  6 -3  0 -4 -3  1 -2 -3 -1 -1 -1 -3 -2 -3]\n",
      " [ 0 -3  0 -1 -3 -2 -3  8 -2 -4 -4 -2 -3 -4 -2  0 -2 -3 -3 -4]\n",
      " [-2  0  1 -1 -3  1  0 -2 10 -4 -3  0 -1 -1 -2 -1 -2 -3  2 -4]\n",
      " [-1 -4 -3 -4 -2 -3 -4 -4 -4  5  2 -3  2  0 -3 -3 -1 -3 -1  4]\n",
      " [-2 -3 -4 -4 -2 -2 -3 -4 -3  2  5 -3  3  1 -4 -3 -1 -2 -1  1]\n",
      " [-1  3  0 -1 -3  2  1 -2  0 -3 -3  6 -2 -4 -1  0 -1 -3 -2 -3]\n",
      " [-1 -2 -2 -4 -2  0 -2 -3 -1  2  3 -2  7  0 -3 -2 -1 -1  0  1]\n",
      " [-3 -3 -4 -5 -2 -4 -3 -4 -1  0  1 -4  0  8 -4 -3 -2  1  4 -1]\n",
      " [-1 -3 -2 -1 -4 -1 -1 -2 -2 -3 -4 -1 -3 -4 10 -1 -1 -4 -3 -3]\n",
      " [ 1 -1  1  0 -1  0 -1  0 -1 -3 -3  0 -2 -3 -1  5  2 -4 -2 -2]\n",
      " [ 0 -1  0 -1 -1 -1 -1 -2 -2 -1 -1 -1 -1 -2 -1  2  5 -3 -2  0]\n",
      " [-3 -3 -4 -5 -5 -1 -3 -3 -3 -3 -2 -3 -1  1 -4 -4 -3 15  2 -3]\n",
      " [-2 -1 -2 -3 -3 -1 -2 -3  2 -1 -1 -2  0  4 -3 -2 -2  2  8 -1]\n",
      " [ 0 -3 -3 -4 -1 -3 -3 -4 -4  4  1 -3  1 -1 -3 -2  0 -3 -1  5]]\n"
     ]
    }
   ],
   "source": [
    "blosum50 =np.loadtxt('blosum50.txt', dtype=int)\n",
    "print(blosum50)"
   ]
  },
  {
   "cell_type": "code",
   "execution_count": 66,
   "metadata": {},
   "outputs": [
    {
     "name": "stdout",
     "output_type": "stream",
     "text": [
      "-2\n"
     ]
    }
   ],
   "source": [
    "blosum_index_map = dict(zip(['A', 'R', 'N', 'D', 'C', 'Q', 'E', 'G', 'H', 'I', 'L', 'K', 'M', 'F', 'P', 'S', 'T', 'W', 'Y', 'V'],[i for i in range(len(blosum50))]))\n",
    "\n",
    "def get_blosum_score(a,b):\n",
    "    \n",
    "    return blosum50[blosum_index_map[a],blosum_index_map[b]]\n",
    "\n",
    "print(get_blosum_score('H','P'))\n"
   ]
  },
  {
   "cell_type": "code",
   "execution_count": 67,
   "metadata": {},
   "outputs": [
    {
     "name": "stdout",
     "output_type": "stream",
     "text": [
      "([(6, 9, 1.0, 'diagonal'), (5, 9, -5.0, 'up'), (4, 8, 3.0, 'diagonal'), (3, 7, -3.0, 'diagonal'), (3, 6, -13.0, 'left'), (2, 5, -5.0, 'diagonal'), (1, 4, -20.0, 'diagonal'), (1, 3, -25.0, 'left'), (0, 2, -17.0, 'diagonal'), (0, 1, -16.0, 'left'), (0, 0, -8.0, 'left')], array([[  0.,  -8., -16., -24., -32., -40., -48., -56., -64., -72., -80.],\n",
      "       [ -8.,  -2.,  -9., -17., -25., -33., -41., -49., -57., -65., -73.],\n",
      "       [-16., -10.,  -3.,  -4., -12., -20., -28., -36., -44., -52., -60.],\n",
      "       [-24., -18., -11.,  -6.,  -7., -15.,  -5., -13., -21., -29., -37.],\n",
      "       [-32., -14., -18., -13.,  -8.,  -9., -13.,  -7.,  -3., -11., -19.],\n",
      "       [-40., -22.,  -8., -16., -16.,  -9., -12., -15.,  -7.,   3.,  -5.],\n",
      "       [-48., -30., -16.,  -3., -11., -11., -12., -12., -15.,  -5.,   2.],\n",
      "       [-56., -38., -24., -11.,  -6., -12., -14., -15., -12.,  -9.,   1.]]), 'HEAGAWGHE-E', '--P-AW-HEAE')\n",
      "([(33, 33, 7.0, 'up'), (32, 32, 15.0, 'diagonal'), (31, 31, 10.0, 'diagonal'), (30, 30, 12.0, 'diagonal'), (29, 29, 14.0, 'diagonal'), (28, 28, 6.0, 'diagonal'), (27, 27, 1.0, 'diagonal'), (26, 26, 1.0, 'diagonal'), (25, 25, 1.0, 'diagonal'), (24, 24, 0.0, 'diagonal'), (23, 23, 2.0, 'diagonal'), (22, 22, 0.0, 'diagonal'), (21, 21, 0.0, 'diagonal'), (20, 20, -5.0, 'diagonal'), (19, 19, -4.0, 'diagonal'), (18, 18, -2.0, 'diagonal'), (17, 17, 2.0, 'diagonal'), (16, 16, 3.0, 'diagonal'), (15, 15, -2.0, 'diagonal'), (14, 14, -2.0, 'diagonal'), (13, 13, -4.0, 'diagonal'), (13, 12, -6.0, 'left'), (12, 11, 2.0, 'diagonal'), (11, 10, 1.0, 'diagonal'), (10, 9, 2.0, 'diagonal'), (9, 8, -3.0, 'diagonal'), (8, 7, -2.0, 'diagonal'), (7, 6, -7.0, 'diagonal'), (6, 5, -7.0, 'diagonal'), (5, 4, -6.0, 'diagonal'), (4, 3, -8.0, 'diagonal'), (3, 2, -5.0, 'diagonal'), (2, 1, -4.0, 'diagonal'), (1, 0, -3.0, 'diagonal'), (0, 0, -8.0, 'up')], array([[   0.,   -8.,  -16., ..., -248., -256., -264.],\n",
      "       [  -8.,   -1.,   -9., ..., -230., -238., -246.],\n",
      "       [ -16.,   -3.,    0., ..., -217., -225., -233.],\n",
      "       ...,\n",
      "       [-256., -243., -230., ...,    5.,   10.,    2.],\n",
      "       [-264., -251., -238., ...,   -3.,    3.,   15.],\n",
      "       [-272., -259., -246., ...,  -11.,   -5.,    7.]]), '-SALPQPTTPVSSFTSGSMLGRTDTALTNTYSAL-', 'PSPTMEAVTSVEA-STASHPHSTSSYFATTYYHLY')\n"
     ]
    }
   ],
   "source": [
    "def needleman_wunsch(protein1,protein2):\n",
    "    d = -8\n",
    "    width = len(protein1)+1\n",
    "    heigh = len(protein2)+1\n",
    "    matrix = np.zeros((heigh,width))\n",
    "    path = []\n",
    "    for i in range(1,heigh):\n",
    "        matrix[i,0] = matrix[i-1,0]+d\n",
    "    for j in range(1,width):\n",
    "        matrix[0,j] = matrix[0,j-1]+d\n",
    "    for i in range(1,heigh):\n",
    "        for j in range(1,width):\n",
    "            matrix[i,j] = max(matrix[i-1,j]+d,matrix[i,j-1]+d,matrix[i-1,j-1]+get_blosum_score(protein1[j-1],protein2[i-1]))\n",
    "    i = heigh-1\n",
    "    j = width-1\n",
    "    # path add point coordinate and matrix value and add how to get this point\n",
    "    while i>0 or j>0:\n",
    "        if i>0 and j>0 and matrix[i,j] == matrix[i-1,j-1]+get_blosum_score(protein1[j-1],protein2[i-1]):\n",
    "            path.append((i-1,j-1,matrix[i,j],'diagonal'))\n",
    "            i-=1\n",
    "            j-=1\n",
    "        elif i>0 and matrix[i,j] == matrix[i-1,j]+d:\n",
    "            path.append((i-1,j,matrix[i,j],'up'))\n",
    "            i-=1\n",
    "        elif j>0 and matrix[i,j] == matrix[i,j-1]+d:\n",
    "            path.append((i,j-1,matrix[i,j],'left'))\n",
    "            j-=1\n",
    "            \n",
    "    # get protein1 and protein2 alignment \n",
    "    protein1_alignment = ''\n",
    "    protein2_alignment = ''\n",
    "    for i in range(len(path)-1,-1,-1):\n",
    "        if path[i][3] == 'diagonal':\n",
    "            protein1_alignment += protein1[path[i][1]]\n",
    "            protein2_alignment += protein2[path[i][0]]\n",
    "        elif path[i][3] == 'up':\n",
    "            protein1_alignment += '-'\n",
    "            protein2_alignment += protein2[path[i][0]]\n",
    "        elif path[i][3] == 'left':\n",
    "            protein1_alignment += protein1[path[i][1]]\n",
    "            protein2_alignment += '-'\n",
    "    return path,matrix, protein1_alignment, protein2_alignment\n",
    "     \n",
    "print(needleman_wunsch('HEAGAWGHEE','PAWHEAE'))\n",
    "print(needleman_wunsch('SALPQPTTPVSSFTSGSMLGRTDTALTNTYSAL','PSPTMEAVTSVEASTASHPHSTSSYFATTYYHLY'))\n",
    "\n",
    "    "
   ]
  },
  {
   "attachments": {},
   "cell_type": "markdown",
   "metadata": {},
   "source": [
    "## Task2"
   ]
  },
  {
   "cell_type": "code",
   "execution_count": 68,
   "metadata": {},
   "outputs": [
    {
     "name": "stdout",
     "output_type": "stream",
     "text": [
      "([(4, 8, 28.0, 'diagonal'), (3, 7, 22.0, 'diagonal'), (3, 6, 12.0, 'left'), (2, 5, 20.0, 'diagonal'), (1, 4, 5.0, 'diagonal')], array([[ 0.,  0.,  0.,  0.,  0.,  0.,  0.,  0.,  0.,  0.,  0.],\n",
      "       [ 0.,  0.,  0.,  0.,  0.,  0.,  0.,  0.,  0.,  0.,  0.],\n",
      "       [ 0.,  0.,  0.,  5.,  0.,  5.,  0.,  0.,  0.,  0.,  0.],\n",
      "       [ 0.,  0.,  0.,  0.,  2.,  0., 20., 12.,  4.,  0.,  0.],\n",
      "       [ 0., 10.,  2.,  0.,  0.,  0., 12., 18., 22., 14.,  6.],\n",
      "       [ 0.,  2., 16.,  8.,  0.,  0.,  4., 10., 18., 28., 20.],\n",
      "       [ 0.,  0.,  8., 21., 13.,  5.,  0.,  4., 10., 20., 27.],\n",
      "       [ 0.,  0.,  6., 13., 18., 12.,  4.,  0.,  4., 16., 26.]]), 'AWGHE', 'AW-HE')\n",
      "([(45, 44, 273.0, 'diagonal'), (44, 43, 268.0, 'diagonal'), (43, 42, 261.0, 'diagonal'), (42, 41, 256.0, 'diagonal'), (41, 40, 251.0, 'diagonal'), (40, 39, 243.0, 'diagonal'), (39, 38, 230.0, 'diagonal'), (38, 37, 220.0, 'diagonal'), (37, 36, 213.0, 'diagonal'), (36, 35, 208.0, 'diagonal'), (35, 34, 200.0, 'diagonal'), (34, 33, 195.0, 'diagonal'), (33, 32, 185.0, 'diagonal'), (32, 31, 180.0, 'diagonal'), (31, 30, 175.0, 'diagonal'), (30, 29, 169.0, 'diagonal'), (29, 28, 164.0, 'diagonal'), (28, 27, 159.0, 'diagonal'), (27, 26, 153.0, 'diagonal'), (26, 25, 146.0, 'diagonal'), (25, 24, 139.0, 'diagonal'), (24, 23, 134.0, 'diagonal'), (23, 22, 129.0, 'diagonal'), (22, 21, 121.0, 'diagonal'), (21, 20, 111.0, 'diagonal'), (20, 19, 106.0, 'diagonal'), (19, 18, 96.0, 'diagonal'), (18, 17, 89.0, 'diagonal'), (17, 16, 81.0, 'diagonal'), (16, 15, 81.0, 'diagonal'), (15, 14, 76.0, 'diagonal'), (14, 13, 68.0, 'diagonal'), (13, 12, 63.0, 'diagonal'), (12, 11, 55.0, 'diagonal'), (11, 10, 47.0, 'diagonal'), (10, 9, 42.0, 'diagonal'), (9, 8, 35.0, 'diagonal'), (8, 7, 28.0, 'diagonal'), (7, 6, 23.0, 'diagonal'), (6, 5, 15.0, 'diagonal'), (5, 4, 10.0, 'diagonal')], array([[  0.,   0.,   0., ...,   0.,   0.,   0.],\n",
      "       [  0.,   0.,   0., ...,   0.,   0.,   0.],\n",
      "       [  0.,   0.,   0., ...,   0.,   0.,   0.],\n",
      "       ...,\n",
      "       [  0.,   0.,   2., ..., 141., 133., 125.],\n",
      "       [  0.,   0.,   1., ..., 156., 148., 140.],\n",
      "       [  0.,   2.,   0., ..., 169., 161., 153.]]), 'HSGVNQLGGVFVNGRPLPDSTRQKIVELAHSGARPCDISRI', 'HSGVNQLGGVFVGGRPLPDSTRQKIVELAHSGARPCDISRI')\n"
     ]
    }
   ],
   "source": [
    "def smith_waterman(protein1,protein2):\n",
    "    d = -8\n",
    "    height = len(protein2)+1\n",
    "    width = len(protein1)+1\n",
    "    \n",
    "    matrix = np.zeros((height,width))\n",
    "    # smith waterman algorithm achieve\n",
    "    for i in range(1,height):\n",
    "        for j in range(1,width):\n",
    "            matrix[i,j] = max(0,matrix[i-1,j]+d,matrix[i,j-1]+d,matrix[i-1,j-1]+get_blosum_score(protein1[j-1],protein2[i-1]))\n",
    "    # get max value and max value coordinate\n",
    "    max_value = 0\n",
    "    max_value_coordinate = (0,0)\n",
    "    for i in range(height):\n",
    "        for j in range(width):\n",
    "            if matrix[i,j]>max_value:\n",
    "                max_value = matrix[i,j]\n",
    "                max_value_coordinate = (i,j)\n",
    "    # get path\n",
    "    path = []\n",
    "    i = max_value_coordinate[0]\n",
    "    j = max_value_coordinate[1]\n",
    "    while True:\n",
    "        if i>0 and j>0 and matrix[i,j] == matrix[i-1,j-1]+get_blosum_score(protein1[j-1],protein2[i-1]):\n",
    "            path.append((i-1,j-1,matrix[i,j],'diagonal'))\n",
    "            i-=1\n",
    "            j-=1\n",
    "        elif i>0 and matrix[i,j] == matrix[i-1,j]+d:\n",
    "            path.append((i-1,j,matrix[i,j],'up'))\n",
    "            i-=1\n",
    "        elif j>0 and matrix[i,j] == matrix[i,j-1]+d:\n",
    "            path.append((i,j-1,matrix[i,j],'left'))\n",
    "            j-=1\n",
    "        else:\n",
    "            break\n",
    "    # get protein1 and protein2 alignment\n",
    "    protein1_alignment = ''\n",
    "    protein2_alignment = ''\n",
    "    for i in range(len(path)-1,-1,-1):\n",
    "        if path[i][3] == 'diagonal':\n",
    "            protein1_alignment += protein1[path[i][1]]\n",
    "            protein2_alignment += protein2[path[i][0]]\n",
    "        elif path[i][3] == 'up':\n",
    "            protein1_alignment += '-'\n",
    "            protein2_alignment += protein2[path[i][0]]\n",
    "        elif path[i][3] == 'left':\n",
    "            protein1_alignment += protein1[path[i][1]]\n",
    "            protein2_alignment += '-'\n",
    "    return path,matrix, protein1_alignment, protein2_alignment\n",
    "\n",
    "print(smith_waterman('HEAGAWGHEE','PAWHEAE'))\n",
    "print(smith_waterman( \"MQNSHSGVNQLGGVFVNGRPLPDSTRQKIVELAHSGARPCDISRILQVSNGCVSKILGRY\",\"TDDECHSGVNQLGGVFVGGRPLPDSTRQKIVELAHSGARPCDISRI\"))\n"
   ]
  },
  {
   "attachments": {},
   "cell_type": "markdown",
   "metadata": {},
   "source": [
    "## Task3 BLAST algorithm"
   ]
  },
  {
   "attachments": {},
   "cell_type": "markdown",
   "metadata": {},
   "source": [
    "CLUSTAL O(1.2.4) multiple sequence alignment\n",
    "\n",
    "\n",
    "tr|O96791|O96791_DROME      NVIAMRNLPCLGTAGGSGLGGIAGKPSPTMEAVEASTASHPHSTSSYFATTYYHLTDDEC\t60\n",
    "sp|P63015|PAX6_MOUSE        --------------------------------------------------------MQNS\t4\n",
    "                                                                                     ::.\n",
    "\n",
    "tr|O96791|O96791_DROME      HSGVNQLGGVFVGGRPLPDSTRQKIVELAHSGARPCDISRI-------------------\t101\n",
    "sp|P63015|PAX6_MOUSE        HSGVNQLGGVFVNGRPLPDSTRQKIVELAHSGARPCDISRILQVSNGCVSKILGRYYETG\t64\n",
    "                            ************.****************************                   \n",
    "\n",
    "tr|O96791|O96791_DROME      ------------------------------------------------------------\t101\n",
    "sp|P63015|PAX6_MOUSE        SIRPRAIGGSKPRVATPEVVSKIAQYKRECPSIFAWEIRDRLLSEGVCTNDNIPSVSSIN\t124\n",
    "                                                                                        \n",
    "\n",
    "tr|O96791|O96791_DROME      ------------------------------------------------------------\t101\n",
    "sp|P63015|PAX6_MOUSE        RVLRNLASEKQQMGADGMYDKLRMLNGQTGSWGTRPGWYPGTSVPGQPTQDGCQQQEGGG\t184\n",
    "                                                                                        \n",
    "\n",
    "tr|O96791|O96791_DROME      ------------------------------------------------------------\t101\n",
    "sp|P63015|PAX6_MOUSE        ENTNSISSNGEDSDEAQMRLQLKRKLQRNRTSFTQEQIEALEKEFERTHYPDVFARERLA\t244\n",
    "                                                                                        \n",
    "\n",
    "tr|O96791|O96791_DROME      ------------------------------------------------------------\t101\n",
    "sp|P63015|PAX6_MOUSE        AKIDLPEARIQVWFSNRRAKWRREEKLRNQRRQASNTPSHIPISSSFSTSVYQPIPQPTT\t304\n",
    "                                                                                        \n",
    "\n",
    "tr|O96791|O96791_DROME      ------------------------------------------------------------\t101\n",
    "sp|P63015|PAX6_MOUSE        PVSSFTSGSMLGRTDTALTNTYSALPPMPSFTMANNLPMQPPVPSQTSSYSCMLPTSPSV\t364\n",
    "                                                                                        \n",
    "\n",
    "tr|O96791|O96791_DROME      ----------------------------------------------------------\t101\n",
    "sp|P63015|PAX6_MOUSE        NGRSYDTYTPPHMQTHMNSQPMGTSGTTSTGLISPGVSVPVQVPGSEPDMSQYWPRLQ\t422"
   ]
  },
  {
   "attachments": {},
   "cell_type": "markdown",
   "metadata": {},
   "source": [
    "## Task4"
   ]
  },
  {
   "cell_type": "code",
   "execution_count": 69,
   "metadata": {},
   "outputs": [
    {
     "ename": "ValueError",
     "evalue": "probabilities do not sum to 1",
     "output_type": "error",
     "traceback": [
      "\u001b[1;31m---------------------------------------------------------------------------\u001b[0m",
      "\u001b[1;31mValueError\u001b[0m                                Traceback (most recent call last)",
      "Cell \u001b[1;32mIn[69], line 31\u001b[0m\n\u001b[0;32m     27\u001b[0m         all_states \u001b[39m+\u001b[39m\u001b[39m=\u001b[39m state\n\u001b[0;32m     28\u001b[0m     \u001b[39mreturn\u001b[39;00m sequence, all_states\n\u001b[1;32m---> 31\u001b[0m \u001b[39mprint\u001b[39m(generate_sequence(\u001b[39m100\u001b[39;49m))\n",
      "Cell \u001b[1;32mIn[69], line 25\u001b[0m, in \u001b[0;36mgenerate_sequence\u001b[1;34m(length)\u001b[0m\n\u001b[0;32m     23\u001b[0m         state \u001b[39m=\u001b[39m \u001b[39m'\u001b[39m\u001b[39mAT\u001b[39m\u001b[39m'\u001b[39m\n\u001b[0;32m     24\u001b[0m choices \u001b[39m=\u001b[39m emission_prob[state]\n\u001b[1;32m---> 25\u001b[0m nucleotide \u001b[39m=\u001b[39m np\u001b[39m.\u001b[39;49mrandom\u001b[39m.\u001b[39;49mchoice(\u001b[39mlist\u001b[39;49m(choices\u001b[39m.\u001b[39;49mkeys()), p\u001b[39m=\u001b[39;49m\u001b[39mlist\u001b[39;49m(choices\u001b[39m.\u001b[39;49mvalues()))\n\u001b[0;32m     26\u001b[0m sequence \u001b[39m+\u001b[39m\u001b[39m=\u001b[39m nucleotide\n\u001b[0;32m     27\u001b[0m all_states \u001b[39m+\u001b[39m\u001b[39m=\u001b[39m state\n",
      "File \u001b[1;32mmtrand.pyx:958\u001b[0m, in \u001b[0;36mnumpy.random.mtrand.RandomState.choice\u001b[1;34m()\u001b[0m\n",
      "\u001b[1;31mValueError\u001b[0m: probabilities do not sum to 1"
     ]
    }
   ],
   "source": [
    "\n",
    "state = {'AT','CG'}\n",
    "emission_prob = {'AT':{'A':0.2698,'T':0.3237,'C':0.2080,'G':0.1985},'CG':{'A':0.2495,'T':0.2079,'C':0.2478,'G':0.2984}}\n",
    "tranistion_prob = {'AT':{'AT':0.9998,'CG':0.0002},'CG':{'AT':0.0003,'CG':0.9997}}\n",
    "\n",
    "# program the following HMM to generate CG rich regions\n",
    "\n",
    "def \n",
    "\n"
   ]
  },
  {
   "attachments": {},
   "cell_type": "markdown",
   "metadata": {},
   "source": [
    "## Task5\n"
   ]
  },
  {
   "cell_type": "code",
   "execution_count": null,
   "metadata": {},
   "outputs": [
    {
     "ename": "TypeError",
     "evalue": "unhashable type: 'slice'",
     "output_type": "error",
     "traceback": [
      "\u001b[1;31m---------------------------------------------------------------------------\u001b[0m",
      "\u001b[1;31mTypeError\u001b[0m                                 Traceback (most recent call last)",
      "Cell \u001b[1;32mIn[52], line 81\u001b[0m\n\u001b[0;32m     79\u001b[0m seq \u001b[39m=\u001b[39m generate_sequence(\u001b[39m1000\u001b[39m)\n\u001b[0;32m     80\u001b[0m \u001b[39m# Find the most likely CG regions using the Viterbi algorithm\u001b[39;00m\n\u001b[1;32m---> 81\u001b[0m cg_states \u001b[39m=\u001b[39m viterbi(seq, states, [\u001b[39m0.5\u001b[39;49m, \u001b[39m0.5\u001b[39;49m], transition_prob, emission_prob)\n\u001b[0;32m     82\u001b[0m \u001b[39m# Print the nucleotides and their corresponding CG state on the same line\u001b[39;00m\n\u001b[0;32m     83\u001b[0m \u001b[39mfor\u001b[39;00m i \u001b[39min\u001b[39;00m \u001b[39mrange\u001b[39m(\u001b[39mlen\u001b[39m(seq)):\n",
      "Cell \u001b[1;32mIn[52], line 20\u001b[0m, in \u001b[0;36mviterbi\u001b[1;34m(obs, states, start_prob, trans_prob, emit_prob)\u001b[0m\n\u001b[0;32m     18\u001b[0m path \u001b[39m=\u001b[39m np\u001b[39m.\u001b[39mzeros((\u001b[39mlen\u001b[39m(states), \u001b[39mlen\u001b[39m(obs)), dtype\u001b[39m=\u001b[39m\u001b[39mint\u001b[39m)\n\u001b[0;32m     19\u001b[0m \u001b[39m# Initialize the first column of the trellis with the starting probabilities\u001b[39;00m\n\u001b[1;32m---> 20\u001b[0m trellis[:, \u001b[39m0\u001b[39m] \u001b[39m=\u001b[39m np\u001b[39m.\u001b[39mlog(start_prob) \u001b[39m+\u001b[39m np\u001b[39m.\u001b[39mlog(emit_prob[:, obs[\u001b[39m0\u001b[39;49m]])\n\u001b[0;32m     21\u001b[0m \u001b[39m# Loop over the remaining columns of the trellis\u001b[39;00m\n\u001b[0;32m     22\u001b[0m \u001b[39mfor\u001b[39;00m t \u001b[39min\u001b[39;00m \u001b[39mrange\u001b[39m(\u001b[39m1\u001b[39m, \u001b[39mlen\u001b[39m(obs)):\n\u001b[0;32m     23\u001b[0m     \u001b[39m# Loop over the states\u001b[39;00m\n",
      "\u001b[1;31mTypeError\u001b[0m: unhashable type: 'slice'"
     ]
    }
   ],
   "source": [
    "# viterbi algorithm\n",
    "\n",
    "def viterbi_algorithm():\n",
    "    "
   ]
  }
 ],
 "metadata": {
  "kernelspec": {
   "display_name": "Python 3",
   "language": "python",
   "name": "python3"
  },
  "language_info": {
   "codemirror_mode": {
    "name": "ipython",
    "version": 3
   },
   "file_extension": ".py",
   "mimetype": "text/x-python",
   "name": "python",
   "nbconvert_exporter": "python",
   "pygments_lexer": "ipython3",
   "version": "3.10.9"
  },
  "orig_nbformat": 4,
  "vscode": {
   "interpreter": {
    "hash": "f30b3e16c6e43e4d14354611801f6519ddc7391032e06537b18b2dc513661a5a"
   }
  }
 },
 "nbformat": 4,
 "nbformat_minor": 2
}
